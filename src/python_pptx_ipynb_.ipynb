{
  "nbformat": 4,
  "nbformat_minor": 0,
  "metadata": {
    "colab": {
      "provenance": []
    },
    "kernelspec": {
      "name": "python3",
      "display_name": "Python 3"
    },
    "language_info": {
      "name": "python"
    }
  },
  "cells": [
    {
      "cell_type": "code",
      "execution_count": null,
      "metadata": {
        "colab": {
          "base_uri": "https://localhost:8080/"
        },
        "id": "FTAo0M-ILRH7",
        "outputId": "27a9fb6b-40bb-4fbd-fb1f-0375d747539a"
      },
      "outputs": [
        {
          "output_type": "stream",
          "name": "stdout",
          "text": [
            "Looking in indexes: https://pypi.org/simple, https://us-python.pkg.dev/colab-wheels/public/simple/\n",
            "Requirement already satisfied: python-pptx in /usr/local/lib/python3.9/dist-packages (0.6.21)\n",
            "Requirement already satisfied: XlsxWriter>=0.5.7 in /usr/local/lib/python3.9/dist-packages (from python-pptx) (3.0.9)\n",
            "Requirement already satisfied: lxml>=3.1.0 in /usr/local/lib/python3.9/dist-packages (from python-pptx) (4.9.2)\n",
            "Requirement already satisfied: Pillow>=3.3.2 in /usr/local/lib/python3.9/dist-packages (from python-pptx) (8.4.0)\n"
          ]
        }
      ],
      "source": [
        "!pip install python-pptx"
      ]
    },
    {
      "cell_type": "code",
      "source": [
        "# Import necessary libraries\n",
        "from pptx import Presentation\n",
        "from pptx.util import Inches, Pt\n",
        "import os\n",
        "\n",
        "# Create PPT generator class\n",
        "class PPTGenerator:\n",
        "  # Initialize function, define PPT properties\n",
        "  def __init__(self, title):\n",
        "    self.title = title\n",
        "    self.prs = Presentation()\n",
        "    self.slides = self.prs.slides\n",
        "    self.slide_width = self.prs.slide_width\n",
        "    self.slide_height = self.prs.slide_height\n",
        "  \n",
        "  def get_slide(self,index):\n",
        "    return self.slides[index]\n",
        "\n",
        "  def get_slide_layout(self, index):\n",
        "    return self.prs.slide_layouts[index]\n",
        "\n",
        "  def add_slide(self, layout):\n",
        "    return self.slides.add_slide(layout)\n",
        "  \n",
        "  def delete_slide(self, index):\n",
        "    self.slides._sldIdLst.remove(self.slides[index]._element)\n",
        "\n",
        "  # Add title (and subtitle)\n",
        "  def add_title(self, title, index_slide, subtitle=None):\n",
        "    slide = self.get_slide(index_slide)\n",
        "    title_box = slide.shapes.title\n",
        "    title_box.text = title\n",
        "    subtitle_box = slide.placeholders[1]\n",
        "    if subtitle != None:\n",
        "      subtitle_box.text = subtitle\n",
        "\n",
        "  # Add Subtitle\n",
        "  def add_subtitle(self,subtitle,index_slide,subtitle_left, subtitle_top):\n",
        "    slide = self.get_slide(index_slide)\n",
        "    subtitle = slide.shapes.add_textbox(subtitle_left, subtitle_top, width=Inches(8), height=Inches(1))\n",
        "    subtitle.text_frame.paragraphs[0].font.size = Pt(24)\n",
        "\n",
        "  # Add text\n",
        "  def add_text(self, title, content, index_slide):\n",
        "    slide = self.get_slide(index_slide)\n",
        "    title_box = slide.shapes.title\n",
        "    title_box.text = title\n",
        "    body_shape = slide.shapes.placeholders[1]\n",
        "    tf = body_shape.text_frame\n",
        "    tf.text = content\n",
        "\n",
        "  # Add image\n",
        "  def add_image(self, title, image_file, index_slide):\n",
        "    slide = self.get_slide(index_slide)\n",
        "    img = slide.shapes.add_picture(image_file, Inches(0.5), Inches(1.5),\n",
        "                                        width=Inches(9), height=Inches(5.5))\n",
        "\n",
        "  #Set background\n",
        "\n",
        "\n",
        "\n",
        "\n",
        "  # Save PPT\n",
        "  def save_ppt(self):\n",
        "    ppt_name = '{}.pptx'.format(self.title)\n",
        "    self.prs.save(ppt_name)\n",
        "\n"
      ],
      "metadata": {
        "id": "bPchM8NJLYVN"
      },
      "execution_count": null,
      "outputs": []
    },
    {
      "cell_type": "code",
      "source": [
        "# example\n",
        "if __name__ == '__main__':\n",
        "  ppt = PPTGenerator('Example PPT')\n",
        "  ppt.add_slide(ppt.get_slide_layout(1))\n",
        "  ppt.add_title(title='Title',index_slide=0)\n",
        "  ppt.add_slide(ppt.get_slide_layout(1))\n",
        "  ppt.add_text('Body', 'This is the body text.',index_slide=1)\n",
        "  ppt.add_image('Image', 'image.jpg',index_slide=1)\n",
        "  ppt.save_ppt()"
      ],
      "metadata": {
        "id": "AMfzVNxe1W6Y"
      },
      "execution_count": null,
      "outputs": []
    },
    {
      "cell_type": "code",
      "source": [
        "from google.colab import drive\n",
        "drive.mount('/content/drive')"
      ],
      "metadata": {
        "colab": {
          "base_uri": "https://localhost:8080/"
        },
        "id": "s-jZlGo4PJQC",
        "outputId": "71046ed6-fb73-460d-9753-dfca07382fcc"
      },
      "execution_count": null,
      "outputs": [
        {
          "output_type": "stream",
          "name": "stdout",
          "text": [
            "Drive already mounted at /content/drive; to attempt to forcibly remount, call drive.mount(\"/content/drive\", force_remount=True).\n"
          ]
        }
      ]
    },
    {
      "cell_type": "code",
      "source": [
        "# # example\n",
        "# if __name__ == '__main__':\n",
        "#   ppt = PPTGenerator('/content/drive/MyDrive/ppt_templates/creative/Creatives_Template.pptx')\n",
        "#   ppt.get_slide(0)\n",
        "#   ppt.add_title(title='Title',index_slide=0)\n",
        "#   ppt.add_slide(ppt.get_slide_layout(1))\n",
        "#   ppt.add_text('Body', 'This is the body text.',index_slide=1)\n",
        "#   ppt.add_image('Image', 'image.jpg',index_slide=1)\n",
        "#   ppt.save_ppt()"
      ],
      "metadata": {
        "id": "RTJKlUF6wxM6"
      },
      "execution_count": null,
      "outputs": []
    },
    {
      "cell_type": "code",
      "source": [],
      "metadata": {
        "id": "A1n5kWNKnpkr"
      },
      "execution_count": null,
      "outputs": []
    }
  ]
}